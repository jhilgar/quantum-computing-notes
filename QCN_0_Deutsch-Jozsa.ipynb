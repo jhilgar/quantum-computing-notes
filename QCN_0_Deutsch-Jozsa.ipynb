{
 "cells": [
  {
   "cell_type": "code",
   "execution_count": 3,
   "id": "febcd43d-47e9-4825-8c85-9202b83929dc",
   "metadata": {},
   "outputs": [
    {
     "name": "stdout",
     "output_type": "stream",
     "text": [
      "Requirement already satisfied: numpy in c:\\users\\jeremy\\miniconda3\\lib\\site-packages (2.1.2)\n",
      "[1.+0.j 0.+0.j 0.+0.j 0.+0.j]\n"
     ]
    }
   ],
   "source": [
    "%run QCN_0_Intro.ipynb"
   ]
  },
  {
   "cell_type": "markdown",
   "id": "69ae9287-539e-4a30-a79e-f5fc11c9b12e",
   "metadata": {},
   "source": [
    "# JDH's Quantum Computing Notes \n",
    "Simulations of basic quantum computation logic and algorithms in Python.\n",
    "\n",
    "## Contents\n",
    "0. Setup, basic logic, and vizualization \n",
    "1. Multi-qubit gates, Deutsch–Jozsa (this notebook)\n",
    "\n",
    "## Multi-qubit gates\n",
    "### CNOT"
   ]
  }
 ],
 "metadata": {
  "kernelspec": {
   "display_name": "Python 3 (ipykernel)",
   "language": "python",
   "name": "python3"
  },
  "language_info": {
   "codemirror_mode": {
    "name": "ipython",
    "version": 3
   },
   "file_extension": ".py",
   "mimetype": "text/x-python",
   "name": "python",
   "nbconvert_exporter": "python",
   "pygments_lexer": "ipython3",
   "version": "3.12.4"
  }
 },
 "nbformat": 4,
 "nbformat_minor": 5
}
