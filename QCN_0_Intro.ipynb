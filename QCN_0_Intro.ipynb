{
 "cells": [
  {
   "cell_type": "markdown",
   "id": "823e2221-a45a-4aaa-8dfa-8f38f914f73d",
   "metadata": {},
   "source": [
    "# JDH's Quantum Computing Notes\n",
    "Simulations of basic quantum computation logic and algorithms in Python.\n",
    "\n",
    "## Contents\n",
    "0. Setup, basic logic, and vizualization (this notebook)\n",
    "1. Multi-qubit gates, Deutsch–Jozsa (in progress)\n",
    "\n",
    "## Setup\n",
    "Install dependencies."
   ]
  },
  {
   "cell_type": "code",
   "execution_count": null,
   "id": "a39e5fa3-d5e1-467a-a0b5-d3670b23f8c6",
   "metadata": {},
   "outputs": [],
   "source": [
    "import sys\n",
    "!{sys.executable} -m pip install numpy"
   ]
  },
  {
   "cell_type": "markdown",
   "id": "e8222c58-c7c0-4e3b-8a0f-a4ea0eb85a6c",
   "metadata": {},
   "source": [
    "## Basic Logic\n",
    "\n",
    "### Initialization\n",
    "A quantum circuit class with a handful of implemented gates. Qubits are stored and addressed in little-endian order, but printed in big-endian (for now)\n",
    "\n",
    "Initial state: $|00..\\rangle = |0\\rangle \\otimes |0\\rangle ...$"
   ]
  },
  {
   "cell_type": "code",
   "execution_count": 21,
   "id": "8ad18349-5d6c-4087-b7a0-65a2b001ae8c",
   "metadata": {},
   "outputs": [
    {
     "name": "stdout",
     "output_type": "stream",
     "text": [
      "[1.+0.j 0.+0.j 0.+0.j 0.+0.j]\n"
     ]
    }
   ],
   "source": [
    "import functools as ft\n",
    "import numpy as np\n",
    "\n",
    "class QCircuit:\n",
    "    def __init__(self, num_qubits: int):\n",
    "        assert num_qubits > 0, \"The number of qubits should be greater than zero.\"\n",
    "        self.num_qubits = num_qubits\n",
    "        self.state = ft.reduce(lambda x, y: np.kron(x, y), [np.array([1.0, 0.0], dtype = complex)] * num_qubits)\n",
    "        \n",
    "    def __str__(self):\n",
    "        return np.array_str(self.state)\n",
    "        \n",
    "# Create system with two qubits in the zero state and output the associated state vector\n",
    "qc = QCircuit(2)\n",
    "print(qc)"
   ]
  },
  {
   "cell_type": "markdown",
   "id": "8ed35fca-3d61-458a-8a9d-154e3db2852c",
   "metadata": {},
   "source": [
    "### Single qubit gates\n",
    "Gate matrices are calculated on each method call before being applied to the current state vector.\n",
    "\n",
    "$ NOT_1 = I \\otimes X \\otimes I $\n",
    "\n",
    "$ M|000\\rangle = |010\\rangle $"
   ]
  },
  {
   "cell_type": "code",
   "execution_count": 52,
   "id": "51cf2d01-4c6c-43a1-b10d-435d5e6df59b",
   "metadata": {},
   "outputs": [
    {
     "name": "stdout",
     "output_type": "stream",
     "text": [
      "Apply the Pauli-X (NOT) gate on the second qubit in the |000> system\n",
      "[0.+0.j 0.+0.j 1.+0.j 0.+0.j 0.+0.j 0.+0.j 0.+0.j 0.+0.j]\n",
      "---\n",
      "Apply the Hadamard gate on qubit zero in |00>\n",
      "[0.70710678+0.j 0.70710678+0.j 0.        +0.j 0.        +0.j]\n"
     ]
    }
   ],
   "source": [
    "class QCircuit(QCircuit):\n",
    "    def compose(self, operations: list[tuple[int, np.array]]):\n",
    "        output = [np.identity(2)] * self.num_qubits\n",
    "        for operation in operations:\n",
    "            assert operation[0] < self.num_qubits, \"Qubit index out of range.\"\n",
    "            output[operation[0]] = operation[1]\n",
    "        return ft.reduce(lambda x, y: np.kron(x, y), reversed(output))\n",
    "        \n",
    "    def px(self, target: int):\n",
    "        operation = [(target, np.array([[0, 1], [1, 0]]))]\n",
    "        gate = self.compose(operation)\n",
    "        self.state = np.dot(gate, self.state)\n",
    "\n",
    "    def h(self, target: int):\n",
    "        operation = [(target, (1 / np.sqrt(2)) * np.array([[1, 1], [1, -1]]))]\n",
    "        gate = self.compose(operation)\n",
    "        self.state = np.dot(gate, self.state)\n",
    "\n",
    "qc = QCircuit(3)\n",
    "print(\"Apply the Pauli-X (NOT) gate on the second qubit in the |000> system\")\n",
    "qc.px(1)\n",
    "print(qc)\n",
    "print(\"---\")\n",
    "qc = QCircuit(2)\n",
    "print(\"Apply the Hadamard gate on qubit zero in |00>\")\n",
    "qc.h(0)\n",
    "print(qc)"
   ]
  },
  {
   "cell_type": "markdown",
   "id": "1a0d608e-c2d1-49df-96fc-7b011f349a07",
   "metadata": {},
   "source": [
    "## Vizualization\n",
    "\n",
    "[in progress]"
   ]
  }
 ],
 "metadata": {
  "kernelspec": {
   "display_name": "Python 3 (ipykernel)",
   "language": "python",
   "name": "python3"
  },
  "language_info": {
   "codemirror_mode": {
    "name": "ipython",
    "version": 3
   },
   "file_extension": ".py",
   "mimetype": "text/x-python",
   "name": "python",
   "nbconvert_exporter": "python",
   "pygments_lexer": "ipython3",
   "version": "3.12.4"
  }
 },
 "nbformat": 4,
 "nbformat_minor": 5
}
