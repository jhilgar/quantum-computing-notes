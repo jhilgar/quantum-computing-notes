{
 "cells": [
  {
   "cell_type": "markdown",
   "id": "823e2221-a45a-4aaa-8dfa-8f38f914f73d",
   "metadata": {},
   "source": [
    "# JDH's Quantum Computing Notes \n",
    "Simulations of basic quantum computation logic and algorithms in Python.\n",
    "\n",
    "## Contents\n",
    "- Basic logic and gates\n",
    "- Measurement and vizualization (todo)\n",
    "- Deutsch–Jozsa (todo)\n",
    "\n",
    "## Basic Logic\n",
    "\n",
    "### Initialization\n",
    "A quantum circuit class with a handful of implemented gates. Qubits are stored and addressed in little-endian order, but printed in big-endian (for now)\n",
    "\n",
    "Initial state: $|00..\\rangle = |0\\rangle \\otimes |0\\rangle ...$"
   ]
  },
  {
   "cell_type": "code",
   "execution_count": 45,
   "id": "8ad18349-5d6c-4087-b7a0-65a2b001ae8c",
   "metadata": {},
   "outputs": [],
   "source": [
    "import functools as ft\n",
    "import numpy as np\n",
    "\n",
    "class QCircuit:\n",
    "    def __init__(self, num_qubits: int):\n",
    "        assert num_qubits > 0, \"The number of qubits should be greater than zero.\"\n",
    "        self.num_qubits = num_qubits\n",
    "        self.state = ft.reduce(lambda x, y: np.kron(x, y), [np.array([1.0, 0.0], dtype = complex)] * num_qubits)\n",
    "        \n",
    "    def __str__(self):\n",
    "        return np.array_str(self.state)\n",
    "        \n",
    "# Create system with two qubits in the zero state and output the associated state vector\n",
    "qc = QCircuit(2)\n",
    "assert np.allclose(qc.state, np.array([1, 0, 0, 0])), \"State vector not initialized properly\""
   ]
  },
  {
   "cell_type": "markdown",
   "id": "8ed35fca-3d61-458a-8a9d-154e3db2852c",
   "metadata": {},
   "source": [
    "### Single qubit gates\n",
    "Gate matrices are calculated on each method call before being applied to the current state vector.\n",
    "\n",
    "$ NOT_1 = I \\otimes X \\otimes I $\n",
    "\n",
    "$ M|000\\rangle = |010\\rangle $"
   ]
  },
  {
   "cell_type": "code",
   "execution_count": 42,
   "id": "51cf2d01-4c6c-43a1-b10d-435d5e6df59b",
   "metadata": {},
   "outputs": [],
   "source": [
    "class QCircuit(QCircuit):\n",
    "    def compose(self, operations: list[tuple[int, np.array]]):\n",
    "        output = [np.identity(2)] * self.num_qubits\n",
    "        for operation in operations:\n",
    "            assert operation[0] < self.num_qubits, \"Qubit index out of range.\"\n",
    "            output[operation[0]] = operation[1]\n",
    "        return ft.reduce(lambda x, y: np.kron(x, y), reversed(output))\n",
    "        \n",
    "    def px(self, target: int):\n",
    "        operation = [(target, np.array([[0, 1], [1, 0]]))]\n",
    "        gate = self.compose(operation)\n",
    "        self.state = np.dot(gate, self.state)\n",
    "\n",
    "    def h(self, target: int):\n",
    "        operation = [(target, (1 / np.sqrt(2)) * np.array([[1, 1], [1, -1]]))]\n",
    "        gate = self.compose(operation)\n",
    "        self.state = np.dot(gate, self.state)\n",
    "\n",
    "# Apply the Hadamard gate on qubit zero in |00>\n",
    "qc = QCircuit(2)\n",
    "qc.h(0)\n",
    "assert np.allclose(qc.state, np.array([0.70710678, 0.70710678, 0, 0])), \"Improper Hadamard functionality\"\n",
    "\n",
    "# Apply the Pauli-X (NOT) gate on the second qubit in the |000> system\n",
    "qc = QCircuit(3)\n",
    "qc.px(1)\n",
    "assert np.allclose(qc.state, np.array([0, 0, 1, 0, 0, 0, 0, 0])), \"Improper Pauli-X functionality\""
   ]
  },
  {
   "cell_type": "markdown",
   "id": "1a0d608e-c2d1-49df-96fc-7b011f349a07",
   "metadata": {},
   "source": [
    "## Multi qubit gates\n",
    "\n",
    "These gates typically have one or more control gate and a target gate.\n",
    "\n",
    "Example from: https://quantumcomputing.stackexchange.com/a/24209\n",
    "\n",
    "$CNOT_{1,3} = |0\\rangle\\langle0| \\otimes I \\otimes I + |1\\rangle\\langle1| \\otimes I \\otimes X$"
   ]
  },
  {
   "cell_type": "code",
   "execution_count": 44,
   "id": "262e32d7-d275-4f16-9bfd-cb5a92989422",
   "metadata": {},
   "outputs": [],
   "source": [
    "class QCircuit(QCircuit):\n",
    "    def cnot(self, control, target):\n",
    "        # Make |0><0| ⊗ I ⊗ I\n",
    "        operation1 = [(control, np.outer([1, 0], [1, 0]))]\n",
    "        gate1 = self.compose(operation1)\n",
    "        # Make |1><1| ⊗ I ⊗ X\n",
    "        operation2 = [(control, np.outer([0, 1], [0, 1]))]\n",
    "        operation2.append((target, np.array([[0, 1], [1, 0]])))\n",
    "        gate2 = self.compose(operation2)\n",
    "        # Combine operations and apply to state vector\n",
    "        self.state = np.dot(gate1 + gate2, self.state)\n",
    "\n",
    "# Apply CNOT to |01> to yield |11>\n",
    "qc = QCircuit(2)\n",
    "qc.px(0)\n",
    "qc.cnot(0, 1)\n",
    "assert np.allclose(qc.state, np.array([0, 0, 0, 1]))"
   ]
  },
  {
   "cell_type": "code",
   "execution_count": null,
   "id": "6e6e0f29-4cec-4527-af61-5c14753ed734",
   "metadata": {},
   "outputs": [],
   "source": []
  }
 ],
 "metadata": {
  "kernelspec": {
   "display_name": "Python 3 (ipykernel)",
   "language": "python",
   "name": "python3"
  },
  "language_info": {
   "codemirror_mode": {
    "name": "ipython",
    "version": 3
   },
   "file_extension": ".py",
   "mimetype": "text/x-python",
   "name": "python",
   "nbconvert_exporter": "python",
   "pygments_lexer": "ipython3",
   "version": "3.12.4"
  }
 },
 "nbformat": 4,
 "nbformat_minor": 5
}
