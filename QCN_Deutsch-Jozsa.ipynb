{
 "cells": [
  {
   "cell_type": "code",
   "execution_count": 6,
   "id": "febcd43d-47e9-4825-8c85-9202b83929dc",
   "metadata": {},
   "outputs": [],
   "source": [
    "%run QCN_0_Intro.ipynb"
   ]
  },
  {
   "cell_type": "markdown",
   "id": "69ae9287-539e-4a30-a79e-f5fc11c9b12e",
   "metadata": {},
   "source": [
    "# JDH's Quantum Computing Notes \n",
    "Simulations of basic quantum computation logic and algorithms in Python.\n",
    "\n",
    "Deutsch–Jozsa"
   ]
  },
  {
   "cell_type": "code",
   "execution_count": null,
   "id": "1dccd8c5-ff3b-4df0-b3fd-bac7943420ee",
   "metadata": {},
   "outputs": [],
   "source": [
    "# todo"
   ]
  }
 ],
 "metadata": {
  "kernelspec": {
   "display_name": "Python 3 (ipykernel)",
   "language": "python",
   "name": "python3"
  },
  "language_info": {
   "codemirror_mode": {
    "name": "ipython",
    "version": 3
   },
   "file_extension": ".py",
   "mimetype": "text/x-python",
   "name": "python",
   "nbconvert_exporter": "python",
   "pygments_lexer": "ipython3",
   "version": "3.12.4"
  }
 },
 "nbformat": 4,
 "nbformat_minor": 5
}
