{
 "cells": [
  {
   "cell_type": "code",
   "execution_count": 14,
   "id": "febcd43d-47e9-4825-8c85-9202b83929dc",
   "metadata": {},
   "outputs": [],
   "source": [
    "%run QCN_Intro.ipynb"
   ]
  },
  {
   "cell_type": "markdown",
   "id": "69ae9287-539e-4a30-a79e-f5fc11c9b12e",
   "metadata": {},
   "source": [
    "# JDH's Quantum Computing Notes \n",
    "Simulations of basic quantum computation logic and algorithms in Python.\n",
    "\n",
    "## Deutsch–Jozsa"
   ]
  },
  {
   "cell_type": "code",
   "execution_count": 18,
   "id": "1dccd8c5-ff3b-4df0-b3fd-bac7943420ee",
   "metadata": {},
   "outputs": [],
   "source": [
    "qc = QCircuit(2)\n",
    "qc.px(1)\n",
    "qc.h(0)\n",
    "qc.h(1)\n",
    "qc.cnot(0, 1)\n",
    "qc.h(0)\n",
    "\n",
    "assert np.allclose(qc.state, np.array([0, 0.70710678, 0, -0.70710678])), \"Wrong output for balanced oracle\""
   ]
  }
 ],
 "metadata": {
  "kernelspec": {
   "display_name": "Python 3 (ipykernel)",
   "language": "python",
   "name": "python3"
  },
  "language_info": {
   "codemirror_mode": {
    "name": "ipython",
    "version": 3
   },
   "file_extension": ".py",
   "mimetype": "text/x-python",
   "name": "python",
   "nbconvert_exporter": "python",
   "pygments_lexer": "ipython3",
   "version": "3.12.4"
  }
 },
 "nbformat": 4,
 "nbformat_minor": 5
}
